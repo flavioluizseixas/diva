{
 "cells": [
  {
   "cell_type": "markdown",
   "metadata": {},
   "source": [
    "# Bibliotecas"
   ]
  },
  {
   "cell_type": "code",
   "execution_count": 38,
   "metadata": {},
   "outputs": [],
   "source": [
    "import pandas as pd\n",
    "import numpy as np\n",
    "from sklearn.impute import KNNImputer\n",
    "from sklearn.model_selection import train_test_split, GridSearchCV\n",
    "from sklearn.tree import DecisionTreeClassifier, export_graphviz, plot_tree\n",
    "from sklearn.svm import SVC\n",
    "from sklearn.linear_model import LogisticRegression\n",
    "from sklearn.metrics import classification_report\n",
    "from sklearn.pipeline import Pipeline\n",
    "import matplotlib.pyplot as plt\n",
    "import graphviz"
   ]
  },
  {
   "cell_type": "markdown",
   "metadata": {},
   "source": [
    "# Preprocessamento"
   ]
  },
  {
   "cell_type": "code",
   "execution_count": 39,
   "metadata": {},
   "outputs": [
    {
     "name": "stdout",
     "output_type": "stream",
     "text": [
      "Arquivos data/diva_features.pkl e data/diva_target.pkl carregados.\n"
     ]
    },
    {
     "data": {
      "text/html": [
       "<div>\n",
       "<style scoped>\n",
       "    .dataframe tbody tr th:only-of-type {\n",
       "        vertical-align: middle;\n",
       "    }\n",
       "\n",
       "    .dataframe tbody tr th {\n",
       "        vertical-align: top;\n",
       "    }\n",
       "\n",
       "    .dataframe thead th {\n",
       "        text-align: right;\n",
       "    }\n",
       "</style>\n",
       "<table border=\"1\" class=\"dataframe\">\n",
       "  <thead>\n",
       "    <tr style=\"text-align: right;\">\n",
       "      <th></th>\n",
       "      <th>Gênero</th>\n",
       "      <th>Idade</th>\n",
       "      <th>Peso</th>\n",
       "      <th>Altura</th>\n",
       "      <th>Fez ou faz Radioterapia ?</th>\n",
       "      <th>Fez ou faz quimioterapia</th>\n",
       "      <th>Tem coagulopatia</th>\n",
       "      <th>Tem doença arterial obstrutiva periférica</th>\n",
       "      <th>Diabetes</th>\n",
       "      <th>Neropatia periférica</th>\n",
       "      <th>Tem Hipertensão arterial, história de infarto,  doença cardíaca</th>\n",
       "      <th>Sobrepeso</th>\n",
       "      <th>Presença de queimaduras ou enxertos na região de punção, sinais de múltiplas punções</th>\n",
       "      <th>Sinais de desidratação ou hipovolemia</th>\n",
       "      <th>Mastectomizada unilateralmente</th>\n",
       "      <th>Amputação em MMSS</th>\n",
       "      <th>Flebite</th>\n",
       "      <th>Fístula Arteriovenosa</th>\n",
       "    </tr>\n",
       "  </thead>\n",
       "  <tbody>\n",
       "    <tr>\n",
       "      <th>0</th>\n",
       "      <td>1</td>\n",
       "      <td>62</td>\n",
       "      <td>72</td>\n",
       "      <td>NaN</td>\n",
       "      <td>0</td>\n",
       "      <td>0</td>\n",
       "      <td>0</td>\n",
       "      <td>0</td>\n",
       "      <td>0</td>\n",
       "      <td>1</td>\n",
       "      <td>1</td>\n",
       "      <td>1</td>\n",
       "      <td>1</td>\n",
       "      <td>1</td>\n",
       "      <td>0</td>\n",
       "      <td>0</td>\n",
       "      <td>1</td>\n",
       "      <td>0</td>\n",
       "    </tr>\n",
       "    <tr>\n",
       "      <th>1</th>\n",
       "      <td>1</td>\n",
       "      <td>68</td>\n",
       "      <td>61</td>\n",
       "      <td>1.67</td>\n",
       "      <td>0</td>\n",
       "      <td>1</td>\n",
       "      <td>0</td>\n",
       "      <td>1</td>\n",
       "      <td>0</td>\n",
       "      <td>0</td>\n",
       "      <td>1</td>\n",
       "      <td>0</td>\n",
       "      <td>0</td>\n",
       "      <td>0</td>\n",
       "      <td>0</td>\n",
       "      <td>0</td>\n",
       "      <td>0</td>\n",
       "      <td>0</td>\n",
       "    </tr>\n",
       "    <tr>\n",
       "      <th>2</th>\n",
       "      <td>1</td>\n",
       "      <td>55</td>\n",
       "      <td>82</td>\n",
       "      <td>1.70</td>\n",
       "      <td>0</td>\n",
       "      <td>0</td>\n",
       "      <td>0</td>\n",
       "      <td>0</td>\n",
       "      <td>0</td>\n",
       "      <td>1</td>\n",
       "      <td>0</td>\n",
       "      <td>1</td>\n",
       "      <td>1</td>\n",
       "      <td>0</td>\n",
       "      <td>0</td>\n",
       "      <td>0</td>\n",
       "      <td>0</td>\n",
       "      <td>0</td>\n",
       "    </tr>\n",
       "    <tr>\n",
       "      <th>3</th>\n",
       "      <td>1</td>\n",
       "      <td>74</td>\n",
       "      <td>45</td>\n",
       "      <td>1.68</td>\n",
       "      <td>0</td>\n",
       "      <td>0</td>\n",
       "      <td>0</td>\n",
       "      <td>0</td>\n",
       "      <td>0</td>\n",
       "      <td>0</td>\n",
       "      <td>0</td>\n",
       "      <td>0</td>\n",
       "      <td>0</td>\n",
       "      <td>0</td>\n",
       "      <td>0</td>\n",
       "      <td>0</td>\n",
       "      <td>1</td>\n",
       "      <td>0</td>\n",
       "    </tr>\n",
       "    <tr>\n",
       "      <th>4</th>\n",
       "      <td>1</td>\n",
       "      <td>54</td>\n",
       "      <td>78</td>\n",
       "      <td>1.77</td>\n",
       "      <td>1</td>\n",
       "      <td>0</td>\n",
       "      <td>1</td>\n",
       "      <td>0</td>\n",
       "      <td>0</td>\n",
       "      <td>0</td>\n",
       "      <td>0</td>\n",
       "      <td>1</td>\n",
       "      <td>0</td>\n",
       "      <td>0</td>\n",
       "      <td>0</td>\n",
       "      <td>0</td>\n",
       "      <td>1</td>\n",
       "      <td>0</td>\n",
       "    </tr>\n",
       "  </tbody>\n",
       "</table>\n",
       "</div>"
      ],
      "text/plain": [
       "   Gênero  Idade   Peso  Altura  Fez ou faz Radioterapia ?  \\\n",
       "0       1      62    72     NaN                          0   \n",
       "1       1      68    61    1.67                          0   \n",
       "2       1      55    82    1.70                          0   \n",
       "3       1      74    45    1.68                          0   \n",
       "4       1      54    78    1.77                          1   \n",
       "\n",
       "   Fez ou faz quimioterapia  Tem coagulopatia  \\\n",
       "0                         0                 0   \n",
       "1                         1                 0   \n",
       "2                         0                 0   \n",
       "3                         0                 0   \n",
       "4                         0                 1   \n",
       "\n",
       "   Tem doença arterial obstrutiva periférica  Diabetes  Neropatia periférica  \\\n",
       "0                                          0         0                     1   \n",
       "1                                          1         0                     0   \n",
       "2                                          0         0                     1   \n",
       "3                                          0         0                     0   \n",
       "4                                          0         0                     0   \n",
       "\n",
       "   Tem Hipertensão arterial, história de infarto,  doença cardíaca  Sobrepeso  \\\n",
       "0                                                  1                        1   \n",
       "1                                                  1                        0   \n",
       "2                                                  0                        1   \n",
       "3                                                  0                        0   \n",
       "4                                                  0                        1   \n",
       "\n",
       "   Presença de queimaduras ou enxertos na região de punção, sinais de múltiplas punções  \\\n",
       "0                                                  1                                      \n",
       "1                                                  0                                      \n",
       "2                                                  1                                      \n",
       "3                                                  0                                      \n",
       "4                                                  0                                      \n",
       "\n",
       "   Sinais de desidratação ou hipovolemia  Mastectomizada unilateralmente  \\\n",
       "0                                      1                               0   \n",
       "1                                      0                               0   \n",
       "2                                      0                               0   \n",
       "3                                      0                               0   \n",
       "4                                      0                               0   \n",
       "\n",
       "   Amputação em MMSS  Flebite  Fístula Arteriovenosa  \n",
       "0                  0        1                      0  \n",
       "1                  0        0                      0  \n",
       "2                  0        0                      0  \n",
       "3                  0        1                      0  \n",
       "4                  0        1                      0  "
      ]
     },
     "execution_count": 39,
     "metadata": {},
     "output_type": "execute_result"
    }
   ],
   "source": [
    "import os\n",
    "file_features  = 'data/diva_features.pkl'\n",
    "file_target  =   'data/diva_target.pkl'\n",
    "\n",
    "if not os.path.exists(file_features):\n",
    "    df = pd.read_excel('data/Dados do projeto DIVA.xlsx')\n",
    "\n",
    "    # Ativando o novo comportamento\n",
    "    pd.set_option('future.no_silent_downcasting', True)\n",
    "\n",
    "    #substitui os valores no df\n",
    "    df.replace('S',1,inplace=True)\n",
    "    df.replace('N',0,inplace=True)\n",
    "    df.replace('s',1,inplace=True)\n",
    "    df.replace('n',0,inplace=True)\n",
    "    df.replace('FEM',1,inplace=True)\n",
    "    df.replace('fem',1,inplace=True)\n",
    "    df.replace('MAS',0,inplace=True)\n",
    "    df.replace('MASC',0,inplace=True)\n",
    "    df.replace('mas',0,inplace=True)\n",
    "    df.replace('masc',0,inplace=True)\n",
    "    # Excluindo a coluna 'Participante'\n",
    "    df = df.drop(columns=['Participante'])\n",
    "    df['Altura'] = df['Altura'].str.replace(',', '.').astype(float)\n",
    "\n",
    "    for col in df.select_dtypes(include=['object']).columns:\n",
    "        df[col] = pd.to_numeric(df[col], errors='coerce').astype('Int64')\n",
    "\n",
    "    y = df['Acesso venoso difícil']\n",
    "    print(y.value_counts())\n",
    "    X = df.drop(columns=['Acesso venoso difícil'])\n",
    "\n",
    "    X.to_pickle(file_features)\n",
    "    y.to_pickle(file_target)\n",
    "    print(f\"Arquivos {file_features} e {file_target} gerados.\")\n",
    "\n",
    "\n",
    "else:\n",
    "    X = pd.read_pickle(file_features)\n",
    "    y = pd.read_pickle(file_target)\n",
    "    print(f\"Arquivos {file_features} e {file_target} carregados.\")\n",
    "\n",
    "features = X.columns\n",
    "X.head()"
   ]
  },
  {
   "cell_type": "markdown",
   "metadata": {},
   "source": [
    "# Valores ausentes"
   ]
  },
  {
   "cell_type": "code",
   "execution_count": 40,
   "metadata": {},
   "outputs": [],
   "source": [
    "# Contando valores ausentes em cada coluna\n",
    "imputer = KNNImputer(n_neighbors=1)\n",
    "X = pd.DataFrame(imputer.fit_transform(X), columns = X.columns)"
   ]
  },
  {
   "cell_type": "markdown",
   "metadata": {},
   "source": [
    "# Preparação para o treinamento"
   ]
  },
  {
   "cell_type": "code",
   "execution_count": 41,
   "metadata": {},
   "outputs": [],
   "source": [
    "# Dados de exemplo\n",
    "# X, y são seus dados de características e rótulos\n",
    "# Dividindo os dados em conjunto de treinamento e teste\n",
    "X_train, X_test, y_train, y_test = train_test_split(X, y, test_size=0.2, random_state=42)"
   ]
  },
  {
   "cell_type": "markdown",
   "metadata": {},
   "source": [
    "# Modelos e parâmetros"
   ]
  },
  {
   "cell_type": "code",
   "execution_count": 42,
   "metadata": {},
   "outputs": [],
   "source": [
    "# Passo 2: Definir os modelos e parâmetros\n",
    "models = {\n",
    "    'Decision Tree': DecisionTreeClassifier(),\n",
    "    'Decision Tree Balanced': DecisionTreeClassifier(class_weight='balanced'),\n",
    "    'SVM': SVC(),\n",
    "    'Logistic Regression': LogisticRegression(max_iter=1000),\n",
    "}\n",
    "\n",
    "parameters = {\n",
    "    'Decision Tree': {'clf__max_depth': [None, 2, 3, 4]},\n",
    "    'Decision Tree Balanced': {'clf__max_depth': [None, 2, 3, 4]},\n",
    "    'SVM': {'clf__C': [0.1, 1, 10], 'clf__gamma': [0.1, 0.01, 0.001]},\n",
    "    'Logistic Regression': {'clf__C': [0.1, 1, 10]},\n",
    "}\n"
   ]
  },
  {
   "cell_type": "markdown",
   "metadata": {},
   "source": [
    "# Treinamento"
   ]
  },
  {
   "cell_type": "code",
   "execution_count": 48,
   "metadata": {},
   "outputs": [
    {
     "name": "stdout",
     "output_type": "stream",
     "text": [
      "Decision Tree: 0.6641666666666667\n",
      "Decision Tree Balanced: 0.7366666666666668\n",
      "SVM: 0.7283333333333334\n",
      "Logistic Regression: 0.6666666666666667\n",
      "Melhor modelo: Pipeline(steps=[('clf',\n",
      "                 DecisionTreeClassifier(class_weight='balanced', max_depth=4))])\n"
     ]
    }
   ],
   "source": [
    "# Passo 3: Iterar sobre os modelos e parâmetros para encontrar o melhor modelo\n",
    "best_model = None\n",
    "best_score = 0\n",
    "\n",
    "for model_name, model in models.items():\n",
    "    # Criando o pipeline com SMOTE e o modelo\n",
    "    pipeline =  Pipeline([\n",
    "        ('clf', model)\n",
    "    ])\n",
    "\n",
    "    clf = GridSearchCV(pipeline, parameters[model_name], scoring='roc_auc', cv = 10)\n",
    "    clf.fit(X_train, y_train)\n",
    "    \n",
    "    score = clf.best_score_\n",
    "    print(f\"{model_name}: {score}\")\n",
    "   \n",
    "    if score > best_score:\n",
    "        best_model = clf.best_estimator_\n",
    "        best_score = score\n",
    "\n",
    "# O melhor modelo e seus parâmetros\n",
    "print(\"Melhor modelo:\", best_model)\n"
   ]
  },
  {
   "cell_type": "markdown",
   "metadata": {},
   "source": [
    "# Avaliação"
   ]
  },
  {
   "cell_type": "code",
   "execution_count": 49,
   "metadata": {},
   "outputs": [
    {
     "name": "stdout",
     "output_type": "stream",
     "text": [
      "              precision    recall  f1-score   support\n",
      "\n",
      "         0.0       0.29      0.33      0.31         6\n",
      "         1.0       0.69      0.64      0.67        14\n",
      "\n",
      "    accuracy                           0.55        20\n",
      "   macro avg       0.49      0.49      0.49        20\n",
      "weighted avg       0.57      0.55      0.56        20\n",
      "\n"
     ]
    }
   ],
   "source": [
    "# Faça previsões nos dados de teste\n",
    "y_pred = best_model.predict(X_test)\n",
    "report = classification_report(y_test, y_pred)\n",
    "print(report)"
   ]
  },
  {
   "cell_type": "code",
   "execution_count": 50,
   "metadata": {},
   "outputs": [
    {
     "name": "stdout",
     "output_type": "stream",
     "text": [
      "                                              Feature  Importance\n",
      "1                                              Idade     0.406371\n",
      "9                                Neropatia periférica    0.335530\n",
      "2                                                Peso    0.258099\n",
      "10  Tem Hipertensão arterial, história de infarto,...    0.000000\n",
      "16                                            Flebite    0.000000\n",
      "15                                  Amputação em MMSS    0.000000\n",
      "14                     Mastectomizada unilateralmente    0.000000\n",
      "13              Sinais de desidratação ou hipovolemia    0.000000\n",
      "12  Presença de queimaduras ou enxertos na região ...    0.000000\n",
      "11                                          Sobrepeso    0.000000\n",
      "0                                              Gênero    0.000000\n",
      "8                                            Diabetes    0.000000\n",
      "7           Tem doença arterial obstrutiva periférica    0.000000\n",
      "6                                    Tem coagulopatia    0.000000\n",
      "5                            Fez ou faz quimioterapia    0.000000\n",
      "4                           Fez ou faz Radioterapia ?    0.000000\n",
      "3                                              Altura    0.000000\n",
      "17                              Fístula Arteriovenosa    0.000000\n"
     ]
    }
   ],
   "source": [
    "pipeline =  Pipeline([\n",
    "    ('clf', DecisionTreeClassifier(class_weight='balanced'))\n",
    "])\n",
    "\n",
    "clf = GridSearchCV(pipeline, param_grid=parameters['Decision Tree Balanced'], scoring='roc_auc', cv = 10)\n",
    "clf.fit(X, y)\n",
    "\n",
    "# Extraindo a importância das variáveis do melhor modelo\n",
    "best_model = clf.best_estimator_\n",
    "feature_importances = best_model.named_steps['clf'].feature_importances_\n",
    "decision_tree = best_model.named_steps['clf']\n",
    "\n",
    "# Criando um DataFrame para visualizar melhor\n",
    "features = X_train.columns if isinstance(X_train, pd.DataFrame) else [f'Feature {i}' for i in range(X_train.shape[1])]\n",
    "importance_df = pd.DataFrame({'Feature': features, 'Importance': feature_importances})\n",
    "\n",
    "# Ordenando por importância\n",
    "importance_df = importance_df.sort_values(by='Importance', ascending=False)\n",
    "\n",
    "print(importance_df)"
   ]
  },
  {
   "cell_type": "code",
   "execution_count": 51,
   "metadata": {},
   "outputs": [
    {
     "data": {
      "text/plain": [
       "'arvore_decisao.png'"
      ]
     },
     "execution_count": 51,
     "metadata": {},
     "output_type": "execute_result"
    }
   ],
   "source": [
    "# Visualizar a árvore de decisão\n",
    "dot_data = export_graphviz(decision_tree, out_file=None, \n",
    "                           feature_names=X.columns,  \n",
    "                           class_names=['Negativo', 'Positivo'],\n",
    "                           filled=True, rounded=True,  \n",
    "                           special_characters=True)  \n",
    "graph = graphviz.Source(dot_data)  \n",
    "graph.render('arvore_decisao', format='png', view=True)"
   ]
  },
  {
   "cell_type": "code",
   "execution_count": 52,
   "metadata": {},
   "outputs": [
    {
     "data": {
      "image/png": "[encoded data removed]",
      "text/plain": [
       "<Figure size 1000x500 with 1 Axes>"
      ]
     },
     "metadata": {},
     "output_type": "display_data"
    }
   ],
   "source": [
    "# Plotar a árvore usando matplotlib\n",
    "plt.figure(figsize=(10,5))\n",
    "a = plot_tree(decision_tree, \n",
    "              feature_names=X.columns,  \n",
    "              class_names=['Negativo', 'Positivo'], \n",
    "              filled=True, \n",
    "              rounded=True)\n",
    "plt.show()"
   ]
  }
 ],
 "metadata": {
  "kernelspec": {
   "display_name": "myenv",
   "language": "python",
   "name": "python3"
  },
  "language_info": {
   "codemirror_mode": {
    "name": "ipython",
    "version": 3
   },
   "file_extension": ".py",
   "mimetype": "text/x-python",
   "name": "python",
   "nbconvert_exporter": "python",
   "pygments_lexer": "ipython3",
   "version": "3.9.19"
  }
 },
 "nbformat": 4,
 "nbformat_minor": 2
}
